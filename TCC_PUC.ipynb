{
 "cells": [
  {
   "cell_type": "code",
   "execution_count": 1,
   "id": "dac5884a-cad2-437c-8c96-fa27339a83e3",
   "metadata": {},
   "outputs": [],
   "source": [
    "# Importação Packages\n",
    "import pandas as pd\n",
    "from sklearn import preprocessing\n",
    "import matplotlib.pyplot as plt\n",
    "import numpy as np\n",
    "from scipy import stats\n",
    "from sklearn.tree import DecisionTreeClassifier\n",
    "from sklearn.model_selection import KFold, cross_val_score\n",
    "from sklearn.neighbors import KNeighborsClassifier\n",
    "from sklearn.ensemble import GradientBoostingClassifier"
   ]
  },
  {
   "cell_type": "code",
   "execution_count": 2,
   "id": "70e31129-c922-4f88-96b5-ada200c58b83",
   "metadata": {},
   "outputs": [],
   "source": [
    "# Importação Dataset\n",
    "df = pd.read_excel('NASA Kepler Expoplanets.xlsx')"
   ]
  },
  {
   "cell_type": "code",
   "execution_count": 3,
   "id": "b2f35d78-455c-47e5-9555-a063db684841",
   "metadata": {},
   "outputs": [
    {
     "data": {
      "text/plain": [
       "(9564, 49)"
      ]
     },
     "execution_count": 3,
     "metadata": {},
     "output_type": "execute_result"
    }
   ],
   "source": [
    "# Tamanho do dataset\n",
    "df.shape"
   ]
  },
  {
   "cell_type": "code",
   "execution_count": 4,
   "id": "d4d4de32-269e-4ee8-9441-54afd098a3b2",
   "metadata": {},
   "outputs": [
    {
     "data": {
      "text/html": [
       "<div>\n",
       "<style scoped>\n",
       "    .dataframe tbody tr th:only-of-type {\n",
       "        vertical-align: middle;\n",
       "    }\n",
       "\n",
       "    .dataframe tbody tr th {\n",
       "        vertical-align: top;\n",
       "    }\n",
       "\n",
       "    .dataframe thead th {\n",
       "        text-align: right;\n",
       "    }\n",
       "</style>\n",
       "<table border=\"1\" class=\"dataframe\">\n",
       "  <thead>\n",
       "    <tr style=\"text-align: right;\">\n",
       "      <th></th>\n",
       "      <th>kepid</th>\n",
       "      <th>kepoi_name</th>\n",
       "      <th>kepler_name</th>\n",
       "      <th>koi_disposition</th>\n",
       "      <th>koi_pdisposition</th>\n",
       "      <th>koi_score</th>\n",
       "      <th>koi_fpflag_nt</th>\n",
       "      <th>koi_fpflag_ss</th>\n",
       "      <th>koi_fpflag_co</th>\n",
       "      <th>koi_fpflag_ec</th>\n",
       "      <th>...</th>\n",
       "      <th>koi_slogg</th>\n",
       "      <th>koi_slogg_err1</th>\n",
       "      <th>koi_slogg_err2</th>\n",
       "      <th>koi_srad</th>\n",
       "      <th>koi_srad_err1</th>\n",
       "      <th>koi_srad_err2</th>\n",
       "      <th>ra</th>\n",
       "      <th>dec</th>\n",
       "      <th>koi_kepmag</th>\n",
       "      <th>target_koi_pdisposition</th>\n",
       "    </tr>\n",
       "  </thead>\n",
       "  <tbody>\n",
       "    <tr>\n",
       "      <th>0</th>\n",
       "      <td>10797460</td>\n",
       "      <td>K00752.01</td>\n",
       "      <td>Kepler-227 b</td>\n",
       "      <td>CONFIRMED</td>\n",
       "      <td>CANDIDATE</td>\n",
       "      <td>10000.000</td>\n",
       "      <td>0</td>\n",
       "      <td>0</td>\n",
       "      <td>0</td>\n",
       "      <td>0</td>\n",
       "      <td>...</td>\n",
       "      <td>4467.0</td>\n",
       "      <td>0.064</td>\n",
       "      <td>-0.096</td>\n",
       "      <td>0.927</td>\n",
       "      <td>0.105</td>\n",
       "      <td>-0.061</td>\n",
       "      <td>291934230</td>\n",
       "      <td>48141651</td>\n",
       "      <td>15347.0</td>\n",
       "      <td>0</td>\n",
       "    </tr>\n",
       "    <tr>\n",
       "      <th>1</th>\n",
       "      <td>10797460</td>\n",
       "      <td>K00752.02</td>\n",
       "      <td>Kepler-227 c</td>\n",
       "      <td>CONFIRMED</td>\n",
       "      <td>CANDIDATE</td>\n",
       "      <td>0.969</td>\n",
       "      <td>0</td>\n",
       "      <td>0</td>\n",
       "      <td>0</td>\n",
       "      <td>0</td>\n",
       "      <td>...</td>\n",
       "      <td>4467.0</td>\n",
       "      <td>0.064</td>\n",
       "      <td>-0.096</td>\n",
       "      <td>0.927</td>\n",
       "      <td>0.105</td>\n",
       "      <td>-0.061</td>\n",
       "      <td>291934230</td>\n",
       "      <td>48141651</td>\n",
       "      <td>15347.0</td>\n",
       "      <td>0</td>\n",
       "    </tr>\n",
       "    <tr>\n",
       "      <th>2</th>\n",
       "      <td>10811496</td>\n",
       "      <td>K00753.01</td>\n",
       "      <td>NaN</td>\n",
       "      <td>CANDIDATE</td>\n",
       "      <td>CANDIDATE</td>\n",
       "      <td>0.000</td>\n",
       "      <td>0</td>\n",
       "      <td>0</td>\n",
       "      <td>0</td>\n",
       "      <td>0</td>\n",
       "      <td>...</td>\n",
       "      <td>4544.0</td>\n",
       "      <td>0.044</td>\n",
       "      <td>-0.176</td>\n",
       "      <td>0.868</td>\n",
       "      <td>0.233</td>\n",
       "      <td>-0.078</td>\n",
       "      <td>297004820</td>\n",
       "      <td>48134129</td>\n",
       "      <td>15436.0</td>\n",
       "      <td>0</td>\n",
       "    </tr>\n",
       "    <tr>\n",
       "      <th>3</th>\n",
       "      <td>10848459</td>\n",
       "      <td>K00754.01</td>\n",
       "      <td>NaN</td>\n",
       "      <td>FALSE POSITIVE</td>\n",
       "      <td>FALSE POSITIVE</td>\n",
       "      <td>0.000</td>\n",
       "      <td>0</td>\n",
       "      <td>1</td>\n",
       "      <td>0</td>\n",
       "      <td>0</td>\n",
       "      <td>...</td>\n",
       "      <td>4564.0</td>\n",
       "      <td>0.053</td>\n",
       "      <td>-0.168</td>\n",
       "      <td>0.791</td>\n",
       "      <td>0.201</td>\n",
       "      <td>-0.067</td>\n",
       "      <td>285534610</td>\n",
       "      <td>48285210</td>\n",
       "      <td>15597.0</td>\n",
       "      <td>1</td>\n",
       "    </tr>\n",
       "    <tr>\n",
       "      <th>4</th>\n",
       "      <td>10854555</td>\n",
       "      <td>K00755.01</td>\n",
       "      <td>Kepler-664 b</td>\n",
       "      <td>CONFIRMED</td>\n",
       "      <td>CANDIDATE</td>\n",
       "      <td>10000.000</td>\n",
       "      <td>0</td>\n",
       "      <td>0</td>\n",
       "      <td>0</td>\n",
       "      <td>0</td>\n",
       "      <td>...</td>\n",
       "      <td>4438.0</td>\n",
       "      <td>0.070</td>\n",
       "      <td>-0.210</td>\n",
       "      <td>10460.000</td>\n",
       "      <td>0.334</td>\n",
       "      <td>-0.133</td>\n",
       "      <td>288754880</td>\n",
       "      <td>48226200</td>\n",
       "      <td>15509.0</td>\n",
       "      <td>0</td>\n",
       "    </tr>\n",
       "  </tbody>\n",
       "</table>\n",
       "<p>5 rows × 50 columns</p>\n",
       "</div>"
      ],
      "text/plain": [
       "      kepid kepoi_name   kepler_name koi_disposition koi_pdisposition  \\\n",
       "0  10797460  K00752.01  Kepler-227 b       CONFIRMED        CANDIDATE   \n",
       "1  10797460  K00752.02  Kepler-227 c       CONFIRMED        CANDIDATE   \n",
       "2  10811496  K00753.01           NaN       CANDIDATE        CANDIDATE   \n",
       "3  10848459  K00754.01           NaN  FALSE POSITIVE   FALSE POSITIVE   \n",
       "4  10854555  K00755.01  Kepler-664 b       CONFIRMED        CANDIDATE   \n",
       "\n",
       "   koi_score  koi_fpflag_nt  koi_fpflag_ss  koi_fpflag_co  koi_fpflag_ec  ...  \\\n",
       "0  10000.000              0              0              0              0  ...   \n",
       "1      0.969              0              0              0              0  ...   \n",
       "2      0.000              0              0              0              0  ...   \n",
       "3      0.000              0              1              0              0  ...   \n",
       "4  10000.000              0              0              0              0  ...   \n",
       "\n",
       "   koi_slogg  koi_slogg_err1  koi_slogg_err2   koi_srad  koi_srad_err1  \\\n",
       "0     4467.0           0.064          -0.096      0.927          0.105   \n",
       "1     4467.0           0.064          -0.096      0.927          0.105   \n",
       "2     4544.0           0.044          -0.176      0.868          0.233   \n",
       "3     4564.0           0.053          -0.168      0.791          0.201   \n",
       "4     4438.0           0.070          -0.210  10460.000          0.334   \n",
       "\n",
       "   koi_srad_err2         ra       dec  koi_kepmag  target_koi_pdisposition  \n",
       "0         -0.061  291934230  48141651     15347.0                        0  \n",
       "1         -0.061  291934230  48141651     15347.0                        0  \n",
       "2         -0.078  297004820  48134129     15436.0                        0  \n",
       "3         -0.067  285534610  48285210     15597.0                        1  \n",
       "4         -0.133  288754880  48226200     15509.0                        0  \n",
       "\n",
       "[5 rows x 50 columns]"
      ]
     },
     "execution_count": 4,
     "metadata": {},
     "output_type": "execute_result"
    }
   ],
   "source": [
    "# Transformação do Target Feature usando Label Encoding\n",
    "label_encoder = preprocessing.LabelEncoder() # Criar o objeto de Label Encoding\n",
    "\n",
    "df['target_koi_pdisposition'] = label_encoder.fit_transform(df['koi_pdisposition'])\n",
    "df.head()"
   ]
  },
  {
   "cell_type": "code",
   "execution_count": 5,
   "id": "ac2dd302-69b9-4722-8c0d-b83cce530ff3",
   "metadata": {},
   "outputs": [],
   "source": [
    "# Eliminação de colunas/atributos\n",
    "df.drop(columns=['kepid','kepoi_name','kepler_name','koi_disposition','koi_tce_delivname','koi_period_err1','koi_period_err2','koi_time0bk_err1','koi_time0bk_err2','koi_impact_err1','koi_impact_err2','koi_duration_err1','koi_duration_err2','koi_depth_err1','koi_depth_err2','koi_prad_err1','koi_prad_err2','koi_teq_err1','koi_teq_err2','koi_insol_err1','koi_insol_err2','koi_steff_err1','koi_steff_err2','koi_slogg_err1','koi_slogg_err2','koi_srad_err1','koi_srad_err2'], inplace=True)"
   ]
  },
  {
   "cell_type": "code",
   "execution_count": 6,
   "id": "c79359c1-afca-4aa5-9c02-90e8996f6068",
   "metadata": {},
   "outputs": [
    {
     "data": {
      "text/plain": [
       "(9564, 23)"
      ]
     },
     "execution_count": 6,
     "metadata": {},
     "output_type": "execute_result"
    }
   ],
   "source": [
    "# Novo tamanho do dataset\n",
    "df.shape"
   ]
  },
  {
   "cell_type": "code",
   "execution_count": 7,
   "id": "1d50a340-ad7c-495d-a6cc-fd59a207d5f0",
   "metadata": {},
   "outputs": [
    {
     "data": {
      "text/plain": [
       "koi_pdisposition              0\n",
       "koi_score                  1510\n",
       "koi_fpflag_nt                 0\n",
       "koi_fpflag_ss                 0\n",
       "koi_fpflag_co                 0\n",
       "koi_fpflag_ec                 0\n",
       "koi_period                    0\n",
       "koi_time0bk                   0\n",
       "koi_impact                  363\n",
       "koi_duration                  0\n",
       "koi_depth                   363\n",
       "koi_prad                    363\n",
       "koi_teq                     363\n",
       "koi_insol                   321\n",
       "koi_model_snr               363\n",
       "koi_tce_plnt_num            346\n",
       "koi_steff                   363\n",
       "koi_slogg                   363\n",
       "koi_srad                    363\n",
       "ra                            0\n",
       "dec                           0\n",
       "koi_kepmag                    1\n",
       "target_koi_pdisposition       0\n",
       "dtype: int64"
      ]
     },
     "execution_count": 7,
     "metadata": {},
     "output_type": "execute_result"
    }
   ],
   "source": [
    "# Identificação valores NA ou NaN.\n",
    "df.isna().sum()"
   ]
  },
  {
   "cell_type": "code",
   "execution_count": 8,
   "id": "e1c37355-f8c1-4ad0-ad80-820e0501e875",
   "metadata": {},
   "outputs": [],
   "source": [
    "# Eliminação de observações com valores ausentes\n",
    "df.dropna(inplace=True)"
   ]
  },
  {
   "cell_type": "code",
   "execution_count": 9,
   "id": "8f347e62-1233-4bbc-bafc-9d054d42810a",
   "metadata": {},
   "outputs": [
    {
     "data": {
      "text/plain": [
       "(7994, 23)"
      ]
     },
     "execution_count": 9,
     "metadata": {},
     "output_type": "execute_result"
    }
   ],
   "source": [
    "# Novo tamanho do dataset\n",
    "df.shape"
   ]
  },
  {
   "cell_type": "code",
   "execution_count": 10,
   "id": "fb7cfcc6-445d-42e7-a5d8-71f119e6532b",
   "metadata": {},
   "outputs": [
    {
     "data": {
      "text/plain": [
       "0      7165\n",
       "1       828\n",
       "465       1\n",
       "Name: koi_fpflag_nt, dtype: int64"
      ]
     },
     "execution_count": 10,
     "metadata": {},
     "output_type": "execute_result"
    }
   ],
   "source": [
    "# Verificar se os atributos com valores binários contêm valores fora de padrão\n",
    "df['koi_fpflag_nt'].value_counts()"
   ]
  },
  {
   "cell_type": "code",
   "execution_count": 11,
   "id": "490ccdb2-b1a6-4c8d-a424-408fca34ee40",
   "metadata": {},
   "outputs": [
    {
     "data": {
      "text/plain": [
       "0    5849\n",
       "1    2145\n",
       "Name: koi_fpflag_ss, dtype: int64"
      ]
     },
     "execution_count": 11,
     "metadata": {},
     "output_type": "execute_result"
    }
   ],
   "source": [
    "df['koi_fpflag_ss'].value_counts()"
   ]
  },
  {
   "cell_type": "code",
   "execution_count": 12,
   "id": "afa4bf4b-4ae5-4120-a2b9-7169f5665cfc",
   "metadata": {},
   "outputs": [
    {
     "data": {
      "text/plain": [
       "0    6223\n",
       "1    1771\n",
       "Name: koi_fpflag_co, dtype: int64"
      ]
     },
     "execution_count": 12,
     "metadata": {},
     "output_type": "execute_result"
    }
   ],
   "source": [
    "df['koi_fpflag_co'].value_counts()"
   ]
  },
  {
   "cell_type": "code",
   "execution_count": 13,
   "id": "05fda1bc-b511-47d7-9f04-3304f8470417",
   "metadata": {},
   "outputs": [
    {
     "data": {
      "text/plain": [
       "0    6913\n",
       "1    1081\n",
       "Name: koi_fpflag_ec, dtype: int64"
      ]
     },
     "execution_count": 13,
     "metadata": {},
     "output_type": "execute_result"
    }
   ],
   "source": [
    "df['koi_fpflag_ec'].value_counts()"
   ]
  },
  {
   "cell_type": "code",
   "execution_count": 14,
   "id": "4c6f99d9-a8fa-4039-ac5d-8d6673de3cee",
   "metadata": {},
   "outputs": [
    {
     "data": {
      "text/plain": [
       "0    7166\n",
       "1     828\n",
       "Name: koi_fpflag_nt, dtype: int64"
      ]
     },
     "execution_count": 14,
     "metadata": {},
     "output_type": "execute_result"
    }
   ],
   "source": [
    "# Tratamento do valor fora do padrão do atributo koi_fpflag_nt\n",
    "df.loc[(df.koi_fpflag_nt != 0)&(df.koi_fpflag_nt != 1),'koi_fpflag_nt'] = df['koi_fpflag_nt'].value_counts().idxmax()\n",
    "df['koi_fpflag_nt'].value_counts()"
   ]
  },
  {
   "cell_type": "code",
   "execution_count": 15,
   "id": "b2e67baa-cbc1-4d8d-8e70-d8380f6d70ee",
   "metadata": {},
   "outputs": [
    {
     "data": {
      "text/plain": [
       "0.000        3432\n",
       "10000.000    1774\n",
       "0.999         229\n",
       "0.998         143\n",
       "0.997         101\n",
       "             ... \n",
       "0.265           1\n",
       "0.769           1\n",
       "0.181           1\n",
       "0.680           1\n",
       "0.058           1\n",
       "Name: koi_score, Length: 649, dtype: int64"
      ]
     },
     "execution_count": 15,
     "metadata": {},
     "output_type": "execute_result"
    },
    {
     "data": {
      "image/png": "[encoded data removed]",
      "text/plain": [
       "<Figure size 432x288 with 1 Axes>"
      ]
     },
     "metadata": {
      "needs_background": "light"
     },
     "output_type": "display_data"
    }
   ],
   "source": [
    "# Visualização dos valores do atributo koi_score fora do intervalo\n",
    "df.boxplot(column='koi_score')\n",
    "plt.title(\"Boxplot do koi_score\")\n",
    "plt.ylabel(\"Valor koi_score\")\n",
    "\n",
    "df['koi_score'].value_counts()"
   ]
  },
  {
   "cell_type": "code",
   "execution_count": 16,
   "id": "3b1259a6-5462-4661-990c-dfb393d076b7",
   "metadata": {},
   "outputs": [],
   "source": [
    "# Tratamento do valor fora do padrão do atributo koi_score\n",
    "df.loc[(df.koi_score > 1), 'koi_score'] = 1"
   ]
  },
  {
   "cell_type": "code",
   "execution_count": 17,
   "id": "0dc014f4-fb30-4865-af0d-5d3b72347726",
   "metadata": {},
   "outputs": [
    {
     "data": {
      "text/plain": [
       "Text(0, 0.5, 'Valor koi_score')"
      ]
     },
     "execution_count": 17,
     "metadata": {},
     "output_type": "execute_result"
    },
    {
     "data": {
      "image/png": "[encoded data removed]",
      "text/plain": [
       "<Figure size 432x288 with 1 Axes>"
      ]
     },
     "metadata": {
      "needs_background": "light"
     },
     "output_type": "display_data"
    }
   ],
   "source": [
    "# Visualização dos valores do atributo koi_score após tratamento\n",
    "df.boxplot(column='koi_score')\n",
    "\n",
    "plt.title(\"Boxplot do koi_score\")\n",
    "plt.ylabel(\"Valor koi_score\")"
   ]
  },
  {
   "cell_type": "code",
   "execution_count": 18,
   "id": "33f726c5-102f-4aa9-8ed3-ec419fbd35cf",
   "metadata": {},
   "outputs": [
    {
     "data": {
      "text/html": [
       "<div>\n",
       "<style scoped>\n",
       "    .dataframe tbody tr th:only-of-type {\n",
       "        vertical-align: middle;\n",
       "    }\n",
       "\n",
       "    .dataframe tbody tr th {\n",
       "        vertical-align: top;\n",
       "    }\n",
       "\n",
       "    .dataframe thead th {\n",
       "        text-align: right;\n",
       "    }\n",
       "</style>\n",
       "<table border=\"1\" class=\"dataframe\">\n",
       "  <thead>\n",
       "    <tr style=\"text-align: right;\">\n",
       "      <th></th>\n",
       "      <th>koi_score</th>\n",
       "      <th>koi_fpflag_nt</th>\n",
       "      <th>koi_fpflag_ss</th>\n",
       "      <th>koi_fpflag_co</th>\n",
       "      <th>koi_fpflag_ec</th>\n",
       "      <th>koi_period</th>\n",
       "      <th>koi_time0bk</th>\n",
       "      <th>koi_impact</th>\n",
       "      <th>koi_duration</th>\n",
       "      <th>koi_depth</th>\n",
       "      <th>...</th>\n",
       "      <th>koi_insol</th>\n",
       "      <th>koi_model_snr</th>\n",
       "      <th>koi_tce_plnt_num</th>\n",
       "      <th>koi_steff</th>\n",
       "      <th>koi_slogg</th>\n",
       "      <th>koi_srad</th>\n",
       "      <th>ra</th>\n",
       "      <th>dec</th>\n",
       "      <th>koi_kepmag</th>\n",
       "      <th>target_koi_pdisposition</th>\n",
       "    </tr>\n",
       "  </thead>\n",
       "  <tbody>\n",
       "    <tr>\n",
       "      <th>count</th>\n",
       "      <td>7994.000000</td>\n",
       "      <td>7994.000000</td>\n",
       "      <td>7994.000000</td>\n",
       "      <td>7994.000000</td>\n",
       "      <td>7994.000000</td>\n",
       "      <td>7.994000e+03</td>\n",
       "      <td>7.994000e+03</td>\n",
       "      <td>7994.000000</td>\n",
       "      <td>7.994000e+03</td>\n",
       "      <td>7.994000e+03</td>\n",
       "      <td>...</td>\n",
       "      <td>7.994000e+03</td>\n",
       "      <td>7994.000000</td>\n",
       "      <td>7994.000000</td>\n",
       "      <td>7994.000000</td>\n",
       "      <td>7994.000000</td>\n",
       "      <td>7.994000e+03</td>\n",
       "      <td>7.994000e+03</td>\n",
       "      <td>7.994000e+03</td>\n",
       "      <td>7994.000000</td>\n",
       "      <td>7994.000000</td>\n",
       "    </tr>\n",
       "    <tr>\n",
       "      <th>mean</th>\n",
       "      <td>0.483829</td>\n",
       "      <td>0.103578</td>\n",
       "      <td>0.268326</td>\n",
       "      <td>0.221541</td>\n",
       "      <td>0.135226</td>\n",
       "      <td>3.703675e+10</td>\n",
       "      <td>1.576545e+09</td>\n",
       "      <td>2197.211778</td>\n",
       "      <td>5.352545e+05</td>\n",
       "      <td>2.664866e+08</td>\n",
       "      <td>...</td>\n",
       "      <td>8.124302e+03</td>\n",
       "      <td>294.795334</td>\n",
       "      <td>1.240055</td>\n",
       "      <td>5691.418064</td>\n",
       "      <td>4317.987703</td>\n",
       "      <td>1.309289e+04</td>\n",
       "      <td>2.920884e+08</td>\n",
       "      <td>4.381603e+07</td>\n",
       "      <td>14317.878534</td>\n",
       "      <td>0.487866</td>\n",
       "    </tr>\n",
       "    <tr>\n",
       "      <th>std</th>\n",
       "      <td>0.477009</td>\n",
       "      <td>0.304731</td>\n",
       "      <td>0.443116</td>\n",
       "      <td>0.415310</td>\n",
       "      <td>0.341987</td>\n",
       "      <td>8.671153e+10</td>\n",
       "      <td>5.773999e+08</td>\n",
       "      <td>8121.092370</td>\n",
       "      <td>6.323300e+05</td>\n",
       "      <td>8.504829e+08</td>\n",
       "      <td>...</td>\n",
       "      <td>1.689601e+05</td>\n",
       "      <td>845.134235</td>\n",
       "      <td>0.650124</td>\n",
       "      <td>788.322057</td>\n",
       "      <td>436.736652</td>\n",
       "      <td>6.491070e+04</td>\n",
       "      <td>4.786094e+06</td>\n",
       "      <td>3.603581e+06</td>\n",
       "      <td>1366.926526</td>\n",
       "      <td>0.499884</td>\n",
       "    </tr>\n",
       "    <tr>\n",
       "      <th>min</th>\n",
       "      <td>0.000000</td>\n",
       "      <td>0.000000</td>\n",
       "      <td>0.000000</td>\n",
       "      <td>0.000000</td>\n",
       "      <td>0.000000</td>\n",
       "      <td>2.598197e-01</td>\n",
       "      <td>1.205659e+09</td>\n",
       "      <td>0.000000</td>\n",
       "      <td>5.200000e-02</td>\n",
       "      <td>0.000000e+00</td>\n",
       "      <td>...</td>\n",
       "      <td>2.000000e-02</td>\n",
       "      <td>0.000000</td>\n",
       "      <td>1.000000</td>\n",
       "      <td>2661.000000</td>\n",
       "      <td>0.047000</td>\n",
       "      <td>1.090000e-01</td>\n",
       "      <td>2.798561e+08</td>\n",
       "      <td>3.657738e+07</td>\n",
       "      <td>6966.000000</td>\n",
       "      <td>0.000000</td>\n",
       "    </tr>\n",
       "    <tr>\n",
       "      <th>25%</th>\n",
       "      <td>0.000000</td>\n",
       "      <td>0.000000</td>\n",
       "      <td>0.000000</td>\n",
       "      <td>0.000000</td>\n",
       "      <td>0.000000</td>\n",
       "      <td>2.421038e+09</td>\n",
       "      <td>1.325975e+09</td>\n",
       "      <td>0.216000</td>\n",
       "      <td>2.414150e+05</td>\n",
       "      <td>1.624000e+06</td>\n",
       "      <td>...</td>\n",
       "      <td>3.316000e+01</td>\n",
       "      <td>14.300000</td>\n",
       "      <td>1.000000</td>\n",
       "      <td>5312.000000</td>\n",
       "      <td>4229.000000</td>\n",
       "      <td>8.270000e-01</td>\n",
       "      <td>2.886992e+08</td>\n",
       "      <td>4.078408e+07</td>\n",
       "      <td>13506.250000</td>\n",
       "      <td>0.000000</td>\n",
       "    </tr>\n",
       "    <tr>\n",
       "      <th>50%</th>\n",
       "      <td>0.371000</td>\n",
       "      <td>0.000000</td>\n",
       "      <td>0.000000</td>\n",
       "      <td>0.000000</td>\n",
       "      <td>0.000000</td>\n",
       "      <td>7.582527e+09</td>\n",
       "      <td>1.359549e+09</td>\n",
       "      <td>0.582500</td>\n",
       "      <td>3.733650e+05</td>\n",
       "      <td>4.491500e+06</td>\n",
       "      <td>...</td>\n",
       "      <td>1.833250e+02</td>\n",
       "      <td>27.500000</td>\n",
       "      <td>1.000000</td>\n",
       "      <td>5761.000000</td>\n",
       "      <td>4438.000000</td>\n",
       "      <td>9.970000e-01</td>\n",
       "      <td>2.923047e+08</td>\n",
       "      <td>4.367880e+07</td>\n",
       "      <td>14575.000000</td>\n",
       "      <td>0.000000</td>\n",
       "    </tr>\n",
       "    <tr>\n",
       "      <th>75%</th>\n",
       "      <td>0.999000</td>\n",
       "      <td>0.000000</td>\n",
       "      <td>1.000000</td>\n",
       "      <td>0.000000</td>\n",
       "      <td>0.000000</td>\n",
       "      <td>2.381556e+10</td>\n",
       "      <td>1.589050e+09</td>\n",
       "      <td>0.909000</td>\n",
       "      <td>5.959750e+05</td>\n",
       "      <td>1.996200e+07</td>\n",
       "      <td>...</td>\n",
       "      <td>1.003577e+03</td>\n",
       "      <td>100.075000</td>\n",
       "      <td>1.000000</td>\n",
       "      <td>6098.000000</td>\n",
       "      <td>4544.000000</td>\n",
       "      <td>1.316000e+04</td>\n",
       "      <td>2.959062e+08</td>\n",
       "      <td>4.672281e+07</td>\n",
       "      <td>15341.750000</td>\n",
       "      <td>1.000000</td>\n",
       "    </tr>\n",
       "    <tr>\n",
       "      <th>max</th>\n",
       "      <td>1.000000</td>\n",
       "      <td>1.000000</td>\n",
       "      <td>1.000000</td>\n",
       "      <td>1.000000</td>\n",
       "      <td>1.000000</td>\n",
       "      <td>1.071233e+12</td>\n",
       "      <td>1.472522e+10</td>\n",
       "      <td>252240.000000</td>\n",
       "      <td>1.385400e+07</td>\n",
       "      <td>9.216700e+09</td>\n",
       "      <td>...</td>\n",
       "      <td>1.094755e+07</td>\n",
       "      <td>9054.700000</td>\n",
       "      <td>8.000000</td>\n",
       "      <td>15896.000000</td>\n",
       "      <td>5364.000000</td>\n",
       "      <td>2.299080e+06</td>\n",
       "      <td>3.017208e+08</td>\n",
       "      <td>5.233601e+07</td>\n",
       "      <td>20003.000000</td>\n",
       "      <td>1.000000</td>\n",
       "    </tr>\n",
       "  </tbody>\n",
       "</table>\n",
       "<p>8 rows × 22 columns</p>\n",
       "</div>"
      ],
      "text/plain": [
       "         koi_score  koi_fpflag_nt  koi_fpflag_ss  koi_fpflag_co  \\\n",
       "count  7994.000000    7994.000000    7994.000000    7994.000000   \n",
       "mean      0.483829       0.103578       0.268326       0.221541   \n",
       "std       0.477009       0.304731       0.443116       0.415310   \n",
       "min       0.000000       0.000000       0.000000       0.000000   \n",
       "25%       0.000000       0.000000       0.000000       0.000000   \n",
       "50%       0.371000       0.000000       0.000000       0.000000   \n",
       "75%       0.999000       0.000000       1.000000       0.000000   \n",
       "max       1.000000       1.000000       1.000000       1.000000   \n",
       "\n",
       "       koi_fpflag_ec    koi_period   koi_time0bk     koi_impact  koi_duration  \\\n",
       "count    7994.000000  7.994000e+03  7.994000e+03    7994.000000  7.994000e+03   \n",
       "mean        0.135226  3.703675e+10  1.576545e+09    2197.211778  5.352545e+05   \n",
       "std         0.341987  8.671153e+10  5.773999e+08    8121.092370  6.323300e+05   \n",
       "min         0.000000  2.598197e-01  1.205659e+09       0.000000  5.200000e-02   \n",
       "25%         0.000000  2.421038e+09  1.325975e+09       0.216000  2.414150e+05   \n",
       "50%         0.000000  7.582527e+09  1.359549e+09       0.582500  3.733650e+05   \n",
       "75%         0.000000  2.381556e+10  1.589050e+09       0.909000  5.959750e+05   \n",
       "max         1.000000  1.071233e+12  1.472522e+10  252240.000000  1.385400e+07   \n",
       "\n",
       "          koi_depth  ...     koi_insol  koi_model_snr  koi_tce_plnt_num  \\\n",
       "count  7.994000e+03  ...  7.994000e+03    7994.000000       7994.000000   \n",
       "mean   2.664866e+08  ...  8.124302e+03     294.795334          1.240055   \n",
       "std    8.504829e+08  ...  1.689601e+05     845.134235          0.650124   \n",
       "min    0.000000e+00  ...  2.000000e-02       0.000000          1.000000   \n",
       "25%    1.624000e+06  ...  3.316000e+01      14.300000          1.000000   \n",
       "50%    4.491500e+06  ...  1.833250e+02      27.500000          1.000000   \n",
       "75%    1.996200e+07  ...  1.003577e+03     100.075000          1.000000   \n",
       "max    9.216700e+09  ...  1.094755e+07    9054.700000          8.000000   \n",
       "\n",
       "          koi_steff    koi_slogg      koi_srad            ra           dec  \\\n",
       "count   7994.000000  7994.000000  7.994000e+03  7.994000e+03  7.994000e+03   \n",
       "mean    5691.418064  4317.987703  1.309289e+04  2.920884e+08  4.381603e+07   \n",
       "std      788.322057   436.736652  6.491070e+04  4.786094e+06  3.603581e+06   \n",
       "min     2661.000000     0.047000  1.090000e-01  2.798561e+08  3.657738e+07   \n",
       "25%     5312.000000  4229.000000  8.270000e-01  2.886992e+08  4.078408e+07   \n",
       "50%     5761.000000  4438.000000  9.970000e-01  2.923047e+08  4.367880e+07   \n",
       "75%     6098.000000  4544.000000  1.316000e+04  2.959062e+08  4.672281e+07   \n",
       "max    15896.000000  5364.000000  2.299080e+06  3.017208e+08  5.233601e+07   \n",
       "\n",
       "         koi_kepmag  target_koi_pdisposition  \n",
       "count   7994.000000              7994.000000  \n",
       "mean   14317.878534                 0.487866  \n",
       "std     1366.926526                 0.499884  \n",
       "min     6966.000000                 0.000000  \n",
       "25%    13506.250000                 0.000000  \n",
       "50%    14575.000000                 0.000000  \n",
       "75%    15341.750000                 1.000000  \n",
       "max    20003.000000                 1.000000  \n",
       "\n",
       "[8 rows x 22 columns]"
      ]
     },
     "execution_count": 18,
     "metadata": {},
     "output_type": "execute_result"
    }
   ],
   "source": [
    "#  Explorar o dataset - função .describe()\n",
    "df.describe()"
   ]
  },
  {
   "cell_type": "code",
   "execution_count": 19,
   "id": "aabe3388-6eff-46fd-a1b2-1d9fbe7bff7f",
   "metadata": {},
   "outputs": [
    {
     "data": {
      "image/png": "[encoded data removed]",
      "text/plain": [
       "<Figure size 432x288 with 1 Axes>"
      ]
     },
     "metadata": {
      "needs_background": "light"
     },
     "output_type": "display_data"
    }
   ],
   "source": [
    "# Visualização Target Feature\n",
    "df.koi_pdisposition.value_counts().plot(kind=\"bar\")\n",
    "plt.title(\"Candidato vs. Falso Positivo\")\n",
    "plt.xlabel(\"Target Feature\")\n",
    "plt.xticks(rotation=0)\n",
    "plt.ylabel(\"Número de observações\")\n",
    "plt.show()"
   ]
  },
  {
   "cell_type": "code",
   "execution_count": 20,
   "id": "83b3dfd5-c56f-4838-8557-ad98bdfd039f",
   "metadata": {},
   "outputs": [],
   "source": [
    "# Remover o target feature que previamente foi encoded\n",
    "df.drop(columns='koi_pdisposition', inplace=True)"
   ]
  },
  {
   "cell_type": "code",
   "execution_count": 21,
   "id": "4baa941c-1a78-4a40-aeb1-67985365d0e1",
   "metadata": {},
   "outputs": [
    {
     "data": {
      "image/png": "[encoded data removed]",
      "text/plain": [
       "<Figure size 1080x1080 with 25 Axes>"
      ]
     },
     "metadata": {
      "needs_background": "light"
     },
     "output_type": "display_data"
    }
   ],
   "source": [
    "# Gerar histogramas para cada atributo do dataset por fins de explorar os dados\n",
    "df.hist(bins=30, figsize=(15, 15))\n",
    "plt.savefig('histogram.png')"
   ]
  },
  {
   "cell_type": "code",
   "execution_count": 22,
   "id": "95a91d2d-06ca-4c46-a3f0-7a1366792e52",
   "metadata": {},
   "outputs": [],
   "source": [
    "# Separação dos features e target feature\n",
    "features = df.drop(columns=['target_koi_pdisposition'])\n",
    "target = df.target_koi_pdisposition"
   ]
  },
  {
   "cell_type": "code",
   "execution_count": 23,
   "id": "c873f5b1-c338-4db3-b260-b862f4222db0",
   "metadata": {},
   "outputs": [],
   "source": [
    "# Número de subconjuntos\n",
    "k_folds = KFold(n_splits = 5)"
   ]
  },
  {
   "cell_type": "code",
   "execution_count": 24,
   "id": "295e39ce-a00d-4e43-b228-9189dc8023a0",
   "metadata": {},
   "outputs": [],
   "source": [
    "# Primeiro Modelo de Machine Learning - Decision Tree Classifier\n",
    "model_decision_tree = DecisionTreeClassifier()\n",
    "scores = cross_val_score(model_decision_tree, features, target, cv=k_folds)"
   ]
  },
  {
   "cell_type": "code",
   "execution_count": 25,
   "id": "c185d151-ac86-44ae-8745-0c57974e400b",
   "metadata": {},
   "outputs": [
    {
     "name": "stdout",
     "output_type": "stream",
     "text": [
      "Cross Validation Scores:  [0.99812383 0.99937461 0.99937461 0.99874922 0.99812265]\n",
      "Average CV Score:  0.9987489834463185\n"
     ]
    }
   ],
   "source": [
    "# Resultados Decision Tree Classifier\n",
    "print(\"Cross Validation Scores: \", scores)\n",
    "print(\"Average CV Score: \", scores.mean())"
   ]
  },
  {
   "cell_type": "code",
   "execution_count": 26,
   "id": "fea58df6-016b-4ceb-97a3-b8e53fbf8c82",
   "metadata": {},
   "outputs": [],
   "source": [
    "decision_tree = scores.mean()*100"
   ]
  },
  {
   "cell_type": "code",
   "execution_count": 27,
   "id": "a5d1f27b-6bd7-4b97-b53f-7b4498a037c3",
   "metadata": {},
   "outputs": [
    {
     "name": "stdout",
     "output_type": "stream",
     "text": [
      "Average CV Score with 5 nodes:  0.9702278723952158\n",
      "Average CV Score with 10 nodes:  0.9792342836300222\n",
      "Average CV Score with 25 nodes:  0.9989992180657341\n",
      "Average CV Score with 50 nodes:  0.9992494526851499\n",
      "Average CV Score with 100 nodes:  0.9989991397940358\n"
     ]
    }
   ],
   "source": [
    "# Testando o Decision Tree ajustando o parametro max_leaf_nodes\n",
    "for i in [5, 10, 25, 50, 100]:\n",
    "    model_decision_tree = DecisionTreeClassifier(max_leaf_nodes = i)\n",
    "    scores = cross_val_score(model_decision_tree, features, target, cv=k_folds)\n",
    "    print(\"Average CV Score with \"+ str(i) +\" nodes: \", scores.mean())"
   ]
  },
  {
   "cell_type": "code",
   "execution_count": 28,
   "id": "382c7eae-0fa5-4918-9ccc-56ed10369e55",
   "metadata": {},
   "outputs": [],
   "source": [
    "# Segundo Modelo de Machine Learning - KNN\n",
    "model_knn = KNeighborsClassifier()\n",
    "scores = cross_val_score(model_knn, features, target, cv=k_folds)"
   ]
  },
  {
   "cell_type": "code",
   "execution_count": 29,
   "id": "5c4e6bab-c8b6-44e8-ba42-691870488b02",
   "metadata": {},
   "outputs": [
    {
     "name": "stdout",
     "output_type": "stream",
     "text": [
      "Cross Validation Scores:  [0.73608505 0.72295184 0.75484678 0.68042527 0.77659574]\n",
      "Average CV Score:  0.7341809375540563\n"
     ]
    }
   ],
   "source": [
    "# Resultados KNN\n",
    "print(\"Cross Validation Scores: \", scores)\n",
    "print(\"Average CV Score: \", scores.mean())"
   ]
  },
  {
   "cell_type": "code",
   "execution_count": 30,
   "id": "4982802e-abd5-443f-9613-34dad7b7a1f2",
   "metadata": {},
   "outputs": [],
   "source": [
    "knn = scores.mean()*100"
   ]
  },
  {
   "cell_type": "code",
   "execution_count": 31,
   "id": "c6472692-7a1c-4f0d-bed9-d124fdd3f793",
   "metadata": {},
   "outputs": [
    {
     "name": "stdout",
     "output_type": "stream",
     "text": [
      "Average CV Score with 5 nodes:  0.7341809375540563\n",
      "Average CV Score with 10 nodes:  0.7350516319257735\n",
      "Average CV Score with 25 nodes:  0.722791935823469\n",
      "Average CV Score with 50 nodes:  0.7090284838537227\n",
      "Average CV Score with 100 nodes:  0.6998939418488245\n"
     ]
    }
   ],
   "source": [
    "for i in [5, 10, 25, 50, 100]:\n",
    "    model_knn = KNeighborsClassifier(n_neighbors=i)\n",
    "    scores = cross_val_score(model_knn, features, target, cv=k_folds)\n",
    "    print(\"Average CV Score with \"+ str(i) +\" nodes: \", scores.mean())"
   ]
  },
  {
   "cell_type": "code",
   "execution_count": 32,
   "id": "7a130666-e019-4e18-a992-7e14fb515eb6",
   "metadata": {},
   "outputs": [],
   "source": [
    "# Terceiro Modelo de Machine Learning - Gradient Boosting\n",
    "model_GB = GradientBoostingClassifier()\n",
    "scores = cross_val_score(model_GB, features, target, cv=k_folds)"
   ]
  },
  {
   "cell_type": "code",
   "execution_count": 33,
   "id": "7a981483-d019-4926-b1fd-6ef51f8b3d3b",
   "metadata": {},
   "outputs": [
    {
     "name": "stdout",
     "output_type": "stream",
     "text": [
      "Cross Validation Scores:  [0.99624765 1.         0.99937461 0.99812383 0.99937422]\n",
      "Average CV Score:  0.9986240618158563\n"
     ]
    }
   ],
   "source": [
    "# Resultados GB\n",
    "print(\"Cross Validation Scores: \", scores)\n",
    "print(\"Average CV Score: \", scores.mean())"
   ]
  },
  {
   "cell_type": "code",
   "execution_count": 34,
   "id": "0088dfa6-ad77-42e9-b3c0-7fcfe8d676e9",
   "metadata": {},
   "outputs": [],
   "source": [
    "gradient_boosting = scores.mean()*100"
   ]
  },
  {
   "cell_type": "code",
   "execution_count": 35,
   "id": "42e0d912-e65d-4af2-8fb5-048ac6a1c314",
   "metadata": {},
   "outputs": [],
   "source": [
    "df2 = pd.DataFrame(index = [1], columns = [\"decision_tree\", \"knn\", \"gradient_boosting\"])"
   ]
  },
  {
   "cell_type": "code",
   "execution_count": 36,
   "id": "c190512f-2e2c-4e6c-a1ab-ba63a3cdad3b",
   "metadata": {},
   "outputs": [
    {
     "data": {
      "text/html": [
       "<div>\n",
       "<style scoped>\n",
       "    .dataframe tbody tr th:only-of-type {\n",
       "        vertical-align: middle;\n",
       "    }\n",
       "\n",
       "    .dataframe tbody tr th {\n",
       "        vertical-align: top;\n",
       "    }\n",
       "\n",
       "    .dataframe thead th {\n",
       "        text-align: right;\n",
       "    }\n",
       "</style>\n",
       "<table border=\"1\" class=\"dataframe\">\n",
       "  <thead>\n",
       "    <tr style=\"text-align: right;\">\n",
       "      <th></th>\n",
       "      <th>decision_tree</th>\n",
       "      <th>knn</th>\n",
       "      <th>gradient_boosting</th>\n",
       "    </tr>\n",
       "  </thead>\n",
       "  <tbody>\n",
       "    <tr>\n",
       "      <th>1</th>\n",
       "      <td>99.874898</td>\n",
       "      <td>73.418094</td>\n",
       "      <td>99.862406</td>\n",
       "    </tr>\n",
       "  </tbody>\n",
       "</table>\n",
       "</div>"
      ],
      "text/plain": [
       "  decision_tree        knn gradient_boosting\n",
       "1     99.874898  73.418094         99.862406"
      ]
     },
     "execution_count": 36,
     "metadata": {},
     "output_type": "execute_result"
    }
   ],
   "source": [
    "df2.iloc[0,0] = decision_tree\n",
    "df2.iloc[0,1] = knn\n",
    "df2.iloc[0,2] = gradient_boosting\n",
    "df2"
   ]
  },
  {
   "cell_type": "code",
   "execution_count": 37,
   "id": "0cf6a740-4b6c-4752-a7ba-ca3935881cef",
   "metadata": {},
   "outputs": [
    {
     "data": {
      "image/png": "[encoded data removed]",
      "text/plain": [
       "<Figure size 648x432 with 1 Axes>"
      ]
     },
     "metadata": {
      "needs_background": "light"
     },
     "output_type": "display_data"
    }
   ],
   "source": [
    "df2.plot(figsize=(9,6), kind=\"bar\")\n",
    "plt.title(\"Comparação entre modelos\")\n",
    "plt.xlabel(\"Modelos\")\n",
    "plt.xticks(rotation=0)\n",
    "plt.ylabel(\"precisão em %\")\n",
    "plt.show()"
   ]
  }
 ],
 "metadata": {
  "kernelspec": {
   "display_name": "Python 3",
   "language": "python",
   "name": "python3"
  },
  "language_info": {
   "codemirror_mode": {
    "name": "ipython",
    "version": 3
   },
   "file_extension": ".py",
   "mimetype": "text/x-python",
   "name": "python",
   "nbconvert_exporter": "python",
   "pygments_lexer": "ipython3",
   "version": "3.8.3"
  }
 },
 "nbformat": 4,
 "nbformat_minor": 5
}
